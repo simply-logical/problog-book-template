{
 "cells": [
  {
   "cell_type": "markdown",
   "id": "de811ee1",
   "metadata": {
    "slideshow": {
     "slide_type": "skip"
    }
   },
   "source": [
    "(sec:problog:md-sp)="
   ]
  },
  {
   "cell_type": "markdown",
   "id": "a03384a4",
   "metadata": {
    "slideshow": {
     "slide_type": "slide"
    }
   },
   "source": [
    "# Bayesian Networks (Sphinx-ProbLog) #"
   ]
  },
  {
   "cell_type": "markdown",
   "id": "936a4e17",
   "metadata": {
    "slideshow": {
     "slide_type": "skip"
    }
   },
   "source": [
    ":::{note}\n",
    "This page is based on the [*Bayesian networks*] ProbLog tutorial, which\n",
    "is executed with **native** ProbLog code boxes.\n",
    ":::\n",
    "\n",
    "[*Bayesian networks*]: https://dtai.cs.kuleuven.be/problog/tutorial/basic/02_bayes.html"
   ]
  },
  {
   "cell_type": "markdown",
   "id": "56b5fc2a",
   "metadata": {
    "slideshow": {
     "slide_type": "skip"
    }
   },
   "source": [
    ":::{admonition} Content format\n",
    ":class: attention\n",
    "This page is written in the [*Markdown Notebook*] format.\n",
    "The ProbLog content is executed with **native** code boxes using the\n",
    "[`sphinx-problog`][sp] Jupyter Book extension.\n",
    "Alternatively, see the [Jupyter Notebook version][notebook] of the\n",
    "*Bayesian Networks* tutorial for an example of executing ProbLog code\n",
    "directly from Python; the [Percent Notebook version][percent] to see how\n",
    "ProbLog code can be executed with a bespoke\n",
    "[iPython cell magic command][magic]; or the [Markdown Notebook version][md],\n",
    "which uses [`ipywidgets`].\n",
    "\n",
    "<!--https://sphinx-panels.readthedocs.io/en/latest/#link-badgeshttps://sphinx-panels.readthedocs.io/en/latest/#link-badges-->\n",
    "<!--{link-badge}`https://problog-template.simply-logical.space/slides/bayesian_networks-mnb.slides.html,Static Slides,link,badge-info badge-pill text-white`-->\n",
    "In addition to this book page, *interactive* [reveal.js] slides are built from\n",
    "the page source.\n",
    "The interactive slides (with executable code boxes) can be accessed via the\n",
    "[Slides (sphinx-problog)] link listed in the left panel (the table of content)\n",
    "or with this button\n",
    "[![View Slides][slides-badge]][slides-link].\n",
    ":::\n",
    "\n",
    "[*Markdown Notebook*]: https://jupyterbook.org/file-types/myst-notebooks.html\n",
    "[sp]: https://github.com/simply-logical/sphinx-problog\n",
    "[`ipywidgets`]: https://ipywidgets.readthedocs.io/\n",
    "[notebook]: bayesian_networks-jnb\n",
    "[percent]: bayesian_networks-pnb\n",
    "[md]: bayesian_networks-mnb\n",
    "[magic]: https://ipython.readthedocs.io/en/stable/interactive/magics.html#cell-magics\n",
    "[reveal.js]: https://github.com/hakimel/reveal.js/\n",
    "[Slides (sphinx-problog)]: https://problog-template.simply-logical.space/slides/bayesian_networks-sp-mnb.slides.html\n",
    "[slides-badge]: https://img.shields.io/badge/view-slides-blue.svg\n",
    "[slides-link]: https://problog-template.simply-logical.space/slides/bayesian_networks-sp-mnb.slides.html"
   ]
  },
  {
   "cell_type": "markdown",
   "id": "73a25633",
   "metadata": {
    "slideshow": {
     "slide_type": "subslide"
    },
    "tags": [
     "remove-cell"
    ]
   },
   "source": [
    ":::{note}\n",
    "These slides are also available as a [book page][bp1].\n",
    ":::\n",
    "\n",
    "[bp1]: .."
   ]
  },
  {
   "cell_type": "markdown",
   "id": "8925a220",
   "metadata": {
    "slideshow": {
     "slide_type": "subslide"
    }
   },
   "source": [
    "We illustrate the use of Bayesian networks in ProbLog using the famous [Earthquake] example.\n",
    "\n",
    "[Earthquake]: http://www.bnlearn.com/bnrepository/#earthquake"
   ]
  },
  {
   "cell_type": "markdown",
   "id": "363e03ea",
   "metadata": {
    "slideshow": {
     "slide_type": "fragment"
    }
   },
   "source": [
    "Suppose there is a burglary in our house with probability 0.7 and an earthquake with probability 0.2. Whether our alarm will ring depends on both burglary and earthquake:\n",
    "* if there is a burglary and an earthquake, the alarm rings with probability 0.9;\n",
    "* if there is only a burglary, it rings with probability 0.8;\n",
    "* if there is only an earthquake, it rings with probability 0.1;\n",
    "* if there is neither a burglary nor an earthquake, the alarm doesn't ring."
   ]
  },
  {
   "cell_type": "markdown",
   "id": "eb8188b0",
   "metadata": {
    "slideshow": {
     "slide_type": "subslide"
    }
   },
   "source": [
    "To model this as a Bayesian network, one would use three random variables, *burglary*, *earthquake* and *alarm*, with *burglary* and *earthquake* being parents of *alarm*. To model this in ProbLog, there are two possible solutions: using {ref}`'plain' ProbLog <problog:probabilistic_facts>` or using some {ref}`syntactic sugar <problog:probabilistic_clauses>` called probabilistic clauses and annotated disjunctions. We now explain both solutions.\n",
    "\n",
    "digraph alarm1 { burglary -> alarm; earthquake -> alarm; }  \n",
    "[ProbLog syntax documentation]\n",
    "\n",
    "[ProbLog syntax documentation]: https://problog.readthedocs.io/en/latest/modeling_basic.html#problog"
   ]
  },
  {
   "cell_type": "markdown",
   "id": "dc0c709d",
   "metadata": {
    "slideshow": {
     "slide_type": "slide"
    }
   },
   "source": [
    "## Probabilistic facts ##"
   ]
  },
  {
   "cell_type": "markdown",
   "id": "7885c459",
   "metadata": {
    "slideshow": {
     "slide_type": "subslide"
    }
   },
   "source": [
    "In 'plain' ProbLog, we can encode the Bayesian network as follows.\n",
    "\n",
    "* Since *burglary* and *earthquake* are random variable without parents, we can simply encode them as probabilistic facts, with the proper probability.\n",
    "* To express the dependence of the random variable *alarm* on its parents *burglary* and *earthquake*, we use one Prolog rule for every possible state of the parents.\n",
    "  - The first rule covers the case in which *burglary* and *earthquake* are both true. The required rule is `alarm :- burglary, earthquake, p_alarm1`, with `p_alarm1` an auxiliary atom defined by means of the probabilistic fact `0.9::p_alarm1`. The point of adding this atom is to ensure that the probability of *alarm* in this case will be 0.9 as required.\n",
    "  - The second rule covers the case that *burglary* is true but *earthquake* is false. Note that *earthquake* being false is encoded using the \"\\+\" symbol for negation (as in regular Prolog).\n",
    "  - The third rule covers the case that *burglary* is false and *earthquake* is true.\n",
    "  - The fourth case (*burglary* and *earthquake* are both false) does not require a rule. This is because, according to our Bayesian network, the probability of *alarm* is 0 in this case."
   ]
  },
  {
   "cell_type": "markdown",
   "id": "4d56d9f0",
   "metadata": {
    "slideshow": {
     "slide_type": "subslide"
    }
   },
   "source": [
    "We obtain the following {ref}`ProbLog program <problog:probabilistic_facts>`.\n",
    "\n",
    "```{problog} problog:probabilistic_facts\n",
    "0.7::burglary.\n",
    "0.2::earthquake.\n",
    "0.9::p_alarm1.\n",
    "0.8::p_alarm2.\n",
    "0.1::p_alarm3.\n",
    "\n",
    "alarm :- burglary, earthquake, p_alarm1.\n",
    "alarm :- burglary, \\+earthquake, p_alarm2.\n",
    "alarm :- \\+burglary, earthquake, p_alarm3.\n",
    "\n",
    "evidence(alarm,true).\n",
    "\n",
    "query(burglary).\n",
    "query(earthquake).\n",
    "```"
   ]
  },
  {
   "cell_type": "markdown",
   "id": "26fa0b61",
   "metadata": {
    "slideshow": {
     "slide_type": ""
    }
   },
   "source": [
    "When pressing 'Evaluate', ProbLog2 calculates the probability of there being a *burglary* or an *earthquake*, given the evidence that the *alarm* rang. The resulting marginals are: $P(burglary)=0.9896$ and $P(earthquake)=0.2275$."
   ]
  },
  {
   "cell_type": "markdown",
   "id": "9da993e7",
   "metadata": {
    "slideshow": {
     "slide_type": "slide"
    }
   },
   "source": [
    "## Probabilistic clauses ##"
   ]
  },
  {
   "cell_type": "markdown",
   "id": "098029bc",
   "metadata": {
    "slideshow": {
     "slide_type": "subslide"
    }
   },
   "source": [
    "While the above is a correct encoding of the given Bayesian network, it is perhaps not very intuitive due to the auxiliary atoms. Fortunately, ProbLog2 offers some syntactic sugar called **probabilistic clauses** to encode this in a more readable way. Above, we encoded the information that the conditional probability of an *alarm* given a *burglary* and an *earthquake* equals 0.9 using the rule `alarm :- burglary, earthquake, p_alarm1`, plus the probabilistic fact `0.9::p_alarm1`. We can replace both with a single probabilistic clause of the form `0.9::alarm :- burglary, earthquake`. This should be read as: if *burglary* and *earthquake* are true, this causes *alarm* to become true with probability 0.9 if there is a *burglary* and an *earthquake*. As this example illustrates, a probabilistic clause has a body, just like regular ProbLog rules, and a head. The difference is that now, the head is annotated with a probability. By also using probabilistic clauses for the other rules in the ProbLog encoding of the Bayesian network, we get {ref}`the following program <problog:probabilistic_clauses>`."
   ]
  },
  {
   "cell_type": "markdown",
   "id": "fa78d72f",
   "metadata": {
    "slideshow": {
     "slide_type": "subslide"
    }
   },
   "source": [
    "```{problog} problog:probabilistic_clauses\n",
    "0.7::burglary.\n",
    "0.2::earthquake.\n",
    "\n",
    "0.9::alarm :- burglary, earthquake.\n",
    "0.8::alarm :- burglary, \\+earthquake.\n",
    "0.1::alarm :- \\+burglary, earthquake.\n",
    "\n",
    "evidence(alarm,true).\n",
    "query(burglary).\n",
    "query(earthquake).\n",
    "```"
   ]
  },
  {
   "cell_type": "markdown",
   "id": "bd0d329b",
   "metadata": {
    "slideshow": {
     "slide_type": ""
    }
   },
   "source": [
    "As you can verify by pressing 'Evaluate', this returns the same marginals as the {ref}`'plain' ProbLog encoding <problog:probabilistic_facts>`: $P(burglary)=0.9896$ and $P(earthquake)=0.2275$. This is not a coincidence: the two programs are equivalent (but the program with probabilistic clauses has the advantage of not needing any auxiliary atoms).\n",
    "\n",
    "[Probabilistic clauses documentation]\n",
    "\n",
    "[Probabilistic clauses documentation]: https://problog.readthedocs.io/en/latest/modeling_basic.html#probabilistic-clauses"
   ]
  },
  {
   "cell_type": "markdown",
   "id": "f68f7a9a",
   "metadata": {
    "slideshow": {
     "slide_type": "slide"
    }
   },
   "source": [
    "## First-order ##"
   ]
  },
  {
   "cell_type": "markdown",
   "id": "96f5d97a",
   "metadata": {
    "slideshow": {
     "slide_type": "subslide"
    }
   },
   "source": [
    "To illustrate the use of *first-order* ProbLog programs, we show below a {ref}`first-order extension <problog:first_order>` of the *Alarm* example.\n",
    "\n",
    "digraph alarm2 { burglary -> alarm; earthquake -> alarm; alarm -> \"calls(john)\"; alarm -> \"calls(...)\"; alarm -> \"calls(mary)\"; }  \n",
    "Suppose there are $N$ people and each person independently *calls* the police with a certain probability, depending on the *alarm* ringing or not: if the *alarm* rings, the probability of *calling* is 0.8, otherwise it is 0.1. This can be modelled as follows. We again use probabilistic clauses and show the case $N=2$ (two people)."
   ]
  },
  {
   "cell_type": "markdown",
   "id": "f9c998d5",
   "metadata": {
    "slideshow": {
     "slide_type": "subslide"
    }
   },
   "source": [
    "```{problog} problog:first_order\n",
    "person(john).\n",
    "person(mary).\n",
    "\n",
    "0.7::burglary.\n",
    "0.2::earthquake.\n",
    "\n",
    "0.9::alarm :- burglary, earthquake.\n",
    "0.8::alarm :- burglary, \\+earthquake.\n",
    "0.1::alarm :- \\+burglary, earthquake.\n",
    "\n",
    "0.8::calls(X) :- alarm, person(X).\n",
    "0.1::calls(X) :- \\+alarm, person(X).\n",
    "\n",
    "evidence(calls(john),true).\n",
    "evidence(calls(mary),true).\n",
    "\n",
    "query(burglary).\n",
    "query(earthquake).\n",
    "```"
   ]
  },
  {
   "cell_type": "markdown",
   "id": "f2096260",
   "metadata": {
    "slideshow": {
     "slide_type": ""
    }
   },
   "source": [
    "When pressing 'Evaluate', ProbLog2 calculates the probability of there being a *burglary* or an *earthquake*, given the evidence that both *john* and *mary* *called*. We obtain $P(burglary)=0.981939$ and $P(earthquake)=0.226851$."
   ]
  },
  {
   "cell_type": "markdown",
   "id": "9eb299f9",
   "metadata": {
    "slideshow": {
     "slide_type": "subslide"
    }
   },
   "source": [
    "In general, any Boolean Bayesian network can be modeled in ProbLog using the above methodology. This can also be extended to non-Boolean Bayesian networks (in which some variables can take more than two possible values), by using annotated disjunctions with multiple atoms in the head."
   ]
  },
  {
   "cell_type": "markdown",
   "id": "369b0536",
   "metadata": {
    "slideshow": {
     "slide_type": "slide"
    }
   },
   "source": [
    "## Annotated disjunctions: Dealing with multi-valued variables ##"
   ]
  },
  {
   "cell_type": "markdown",
   "id": "697f55f1",
   "metadata": {
    "slideshow": {
     "slide_type": "subslide"
    }
   },
   "source": [
    "Since the random variables in the Bayesian network are all Boolean, we only need a single literal in the head of the rules. We can extend the Bayesian network to have a multi-valued variable by indicating the severity of the *earthquake*. The literal `earthquake` now has three possible values `none`, `mild`, `heavy` instead of previously two (no or yes). The probabilities of each value is denoted by the **annotated disjunction** in `0.01::earthquake(heavy); 0.19::earthquake(mild); 0.8::earthquake(none)`. An annotated disjunction is similar to a probabilistic disjunction, but with a different head. Instead of it being one atom annotated with a probability, it is now a disjunction of atoms each annotated with a probability."
   ]
  },
  {
   "cell_type": "markdown",
   "id": "235c970f",
   "metadata": {
    "slideshow": {
     "slide_type": "subslide"
    }
   },
   "source": [
    "```{problog} problog:annotated_disjunctions\n",
    "```"
   ]
  },
  {
   "cell_type": "markdown",
   "id": "08417dcb",
   "metadata": {
    "slideshow": {
     "slide_type": "subslide"
    }
   },
   "source": [
    "[Annotated disjunctions documentation]\n",
    "\n",
    "[Annotated disjunctions documentation]: https://problog.readthedocs.io/en/latest/modeling_basic.html#annotated-disjunctions"
   ]
  }
 ],
 "metadata": {
  "jupytext": {
   "formats": "md:myst",
   "text_representation": {
    "extension": ".md",
    "format_name": "myst"
   }
  },
  "kernelspec": {
   "display_name": "Python 3",
   "language": "python",
   "name": "python3"
  },
  "language_info": {
   "codemirror_mode": {
    "name": "ipython",
    "version": 3
   },
   "file_extension": ".py",
   "mimetype": "text/x-python",
   "name": "python",
   "nbconvert_exporter": "python",
   "pygments_lexer": "ipython3",
   "version": "3.7.10"
  },
  "rise": {
   "start_slideshow_at": "beginning"
  },
  "source_map": [
   15,
   19,
   23,
   32,
   68,
   76,
   82,
   90,
   99,
   103,
   114,
   135,
   139,
   143,
   147,
   162,
   170,
   174,
   181,
   204,
   208,
   212,
   216,
   220,
   225
  ]
 },
 "nbformat": 4,
 "nbformat_minor": 5
}