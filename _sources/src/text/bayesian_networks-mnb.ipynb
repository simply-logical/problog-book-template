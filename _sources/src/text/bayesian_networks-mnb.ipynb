{
 "cells": [
  {
   "cell_type": "markdown",
   "id": "scenic-johnson",
   "metadata": {
    "slideshow": {
     "slide_type": "skip"
    }
   },
   "source": [
    "(sec:problog:md)="
   ]
  },
  {
   "cell_type": "markdown",
   "id": "thousand-kingston",
   "metadata": {
    "slideshow": {
     "slide_type": "slide"
    }
   },
   "source": [
    "# Bayesian Networks (Markdown NB) #"
   ]
  },
  {
   "cell_type": "markdown",
   "id": "split-forge",
   "metadata": {
    "slideshow": {
     "slide_type": "skip"
    }
   },
   "source": [
    ":::{note}\n",
    "This page is based on the [*Bayesian networks*] ProbLog tutorial, which\n",
    "is executed from within Python using the [*ProbLog library*].\n",
    ":::\n",
    "\n",
    ":::{admonition} Content format\n",
    ":class: attention\n",
    "This page is written in the [*Markdown Notebook*] format.\n",
    "The ProbLog content is displayed with [`ipywidgets`].\n",
    "Alternatively, see the [Jupyter Notebook version][notebook] of the\n",
    "*Bayesian Networks* tutorial for an example of executing ProbLog code\n",
    "directly from Python.\n",
    "\n",
    "You can execute the code blocks enclosed below by launching this page as a\n",
    "Jupyter Notebook with MyBinder -- this option is available from the\n",
    "*Launch Menu* that appears after hovering the mouse cursor over the\n",
    "{fa}`rocket` icon shown in the top bar.\n",
    "Note that Google Colab execution environment is not available for pages\n",
    "written in the [*Markdown Notebook*] format.\n",
    "You can also **enable the widgets** to work directly on this page with\n",
    "[Thebe] by activating {fa}`play`&nbsp;*Live Code* from the\n",
    "{fa}`rocket`&nbsp;*Launch Menu*.\n",
    "\n",
    "<!--https://sphinx-panels.readthedocs.io/en/latest/#link-badgeshttps://sphinx-panels.readthedocs.io/en/latest/#link-badges-->\n",
    "<!--{link-badge}`https://problog-template.simply-logical.space/slides/bayesian_networks-mnb.slides.html,Static Slides,link,badge-info badge-pill text-white`-->\n",
    "In addition to this book page and the corresponding Jupyter Notebook,\n",
    "*static* and *interactive* [reveal.js] slides are built from the page source.\n",
    "The static slides can be accessed with the [Static Slides (Markdown NB)] link\n",
    "listed in the left panel (the table of content) or with this button\n",
    "[![View Slides][slides-badge]][slides-link].\n",
    "To launch the interactive version of the slides (with executable code boxes),\n",
    "you need to open this page as a Jupyter Notebook in Binder -- either via\n",
    "the {fa}`rocket`&nbsp;*Launch Menu* or using this button\n",
    "[![Open in Binder][binder-badge]][binder-link];\n",
    "then open [RISE] by clicking the {fa}`chart-bar` button located in the top bar\n",
    "of the Jupyter Notebook interface.\n",
    ":::\n",
    "\n",
    "[*ProbLog library*]: https://dtai.cs.kuleuven.be/problog/tutorial/advanced/01_python_interface.html\n",
    "[*Bayesian networks*]: https://dtai.cs.kuleuven.be/problog/tutorial/basic/02_bayes.html\n",
    "[*Markdown Notebook*]: https://jupyterbook.org/file-types/myst-notebooks.html\n",
    "[`ipywidgets`]: https://ipywidgets.readthedocs.io/\n",
    "[notebook]: bayesian_networks-jnb\n",
    "[Thebe]: https://jupyterbook.org/interactive/launchbuttons.html#live-interactive-pages-with-thebelab\n",
    "[reveal.js]: https://github.com/hakimel/reveal.js/\n",
    "[Static Slides (Markdown NB)]: https://problog-template.simply-logical.space/slides/bayesian_networks-mnb.slides.html\n",
    "[binder-badge]: https://mybinder.org/badge_logo.svg\n",
    "[binder-link]: https://mybinder.org/v2/gh/simply-logical/problog-book-template/master?urlpath=tree/src/text/bayesian_networks-mnb.md\n",
    "[slides-badge]: https://img.shields.io/badge/view-slides-blue.svg\n",
    "[slides-link]: https://problog-template.simply-logical.space/slides/bayesian_networks-mnb.slides.html\n",
    "[RISE]: https://rise.readthedocs.io/en/stable/"
   ]
  },
  {
   "cell_type": "markdown",
   "id": "usual-substitute",
   "metadata": {
    "slideshow": {
     "slide_type": "skip"
    }
   },
   "source": [
    "```{tip}\n",
    "This page includes a number of Python cells holding code needed to set up\n",
    "ProbLog ipywidgets.\n",
    "You can reveal their content by clicking the {fa}`plus-circle` buttons, which\n",
    "appear towards the right edge of this page.\n",
    "```"
   ]
  },
  {
   "cell_type": "code",
   "execution_count": 1,
   "id": "weekly-overview",
   "metadata": {
    "slideshow": {
     "slide_type": "skip"
    },
    "tags": [
     "hide-cell",
     "thebe-init"
    ]
   },
   "outputs": [],
   "source": [
    "import matplotlib.pyplot as plt\n",
    "\n",
    "import ipywidgets as widgets\n",
    "from ipywidgets import Layout\n",
    "\n",
    "from problog.program import PrologString\n",
    "from problog import get_evaluatable"
   ]
  },
  {
   "cell_type": "code",
   "execution_count": 2,
   "id": "adjacent-determination",
   "metadata": {
    "slideshow": {
     "slide_type": "skip"
    },
    "tags": [
     "hide-cell",
     "thebe-init"
    ]
   },
   "outputs": [],
   "source": [
    "def plot_outcome(pl_dict):\n",
    "    x = list(pl_dict.keys())\n",
    "    y = [pl_dict[key] for key in x]\n",
    "    plt.barh(x, y, height=.5)\n",
    "    plt.xlim([0, 1.15])\n",
    "    plt.ylim([-.5, len(x) - .5])\n",
    "    for i, v in enumerate(y):\n",
    "        plt.text(v + .02, i + .0, '{:.2f}'.format(v), fontweight='bold')\n",
    "\n",
    "def get_widget(default_programme):\n",
    "    lines = default_programme.count('\\n') + 1\n",
    "    textbox = widgets.Textarea(\n",
    "        value=default_programme,\n",
    "        placeholder='ProbLog Programme',\n",
    "        # description='ProbLog Programme:',\n",
    "        layout=Layout(width='300px', height='{:d}px'.format(23 * lines)),\n",
    "        disabled=False\n",
    "    )\n",
    "    button = widgets.Button(\n",
    "        description='Evaluate',\n",
    "        # layout=Layout(margin='4px 0px 0px 90px'),\n",
    "        button_style='info'\n",
    "    )\n",
    "\n",
    "    def evaluate(obj):\n",
    "        problog_programme = textbox.value.strip()\n",
    "        if problog_programme:\n",
    "            p = PrologString(problog_programme)\n",
    "            d = get_evaluatable().create_from(p).evaluate()\n",
    "            plot_outcome(d)\n",
    "        else:\n",
    "            d = {'error': 'No ProbLog programme given'}\n",
    "        return d\n",
    "    button.on_click(evaluate)\n",
    "\n",
    "    return widgets.VBox([textbox, button])"
   ]
  },
  {
   "cell_type": "markdown",
   "id": "spiritual-ethnic",
   "metadata": {
    "slideshow": {
     "slide_type": "subslide"
    }
   },
   "source": [
    "We illustrate the use of Bayesian networks in ProbLog using the famous [Earthquake] example.\n",
    "\n",
    "[Earthquake]: http://www.bnlearn.com/bnrepository/#earthquake"
   ]
  },
  {
   "cell_type": "markdown",
   "id": "aging-sister",
   "metadata": {
    "slideshow": {
     "slide_type": "fragment"
    }
   },
   "source": [
    "Suppose there is a burglary in our house with probability 0.7 and an earthquake with probability 0.2. Whether our alarm will ring depends on both burglary and earthquake:\n",
    "* if there is a burglary and an earthquake, the alarm rings with probability 0.9;\n",
    "* if there is only a burglary, it rings with probability 0.8;\n",
    "* if there is only an earthquake, it rings with probability 0.1;\n",
    "* if there is neither a burglary nor an earthquake, the alarm doesn't ring."
   ]
  },
  {
   "cell_type": "markdown",
   "id": "unavailable-maine",
   "metadata": {
    "slideshow": {
     "slide_type": "subslide"
    }
   },
   "source": [
    "To model this as a Bayesian network, one would use three random variables, *burglary*, *earthquake* and *alarm*, with *burglary* and *earthquake* being parents of *alarm*. To model this in ProbLog, there are two possible solutions: using 'plain' ProbLog or using some synthactic sugar called probabilistic clauses and annotated disjunctions. We now explain both solutions.\n",
    "\n",
    "digraph alarm1 { burglary -> alarm; earthquake -> alarm; }  \n",
    "[ProbLog syntax documentation]\n",
    "\n",
    "[ProbLog syntax documentation]: https://problog.readthedocs.io/en/latest/modeling_basic.html#problog"
   ]
  },
  {
   "cell_type": "markdown",
   "id": "interior-quality",
   "metadata": {
    "slideshow": {
     "slide_type": "slide"
    }
   },
   "source": [
    "## Probabilistic facts ##"
   ]
  },
  {
   "cell_type": "markdown",
   "id": "limiting-federal",
   "metadata": {
    "slideshow": {
     "slide_type": "subslide"
    }
   },
   "source": [
    "In 'plain' ProbLog, we can encode the Bayesian network as follows.\n",
    "\n",
    "* Since *burglary* and *earthquake* are random variable without parents, we can simply encode them as probabilistic facts, with the proper probability.\n",
    "* To express the dependence of the random variable *alarm* on its parents *burglary* and *earthquake*, we use one Prolog rule for every possible state of the parents.\n",
    "  - The first rule covers the case in which *burglary* and *earthquake* are both true. The required rule is `alarm :- burglary, earthquake, p_alarm1`, with `p_alarm1` an auxiliary atom defined by means of the probabilistic fact `0.9::p_alarm1`. The point of adding this atom is to ensure that the probability of *alarm* in this case will be 0.9 as required.\n",
    "  - The second rule covers the case that *burglary* is true but *earthquake* is false. Note that *earthquake* being false is encoded using the \"\\+\" symbol for negation (as in regular Prolog).\n",
    "  - The third rule covers the case that *burglary* is false and *earthquake* is true.\n",
    "  - The fourth case (*burglary* and *earthquake* are both false) does not require a rule. This is because, according to our Bayesian network, the probability of *alarm* is 0 in this case."
   ]
  },
  {
   "cell_type": "markdown",
   "id": "later-value",
   "metadata": {
    "slideshow": {
     "slide_type": "subslide"
    }
   },
   "source": [
    "We obtain the following ProbLog program."
   ]
  },
  {
   "cell_type": "code",
   "execution_count": 3,
   "id": "comprehensive-hygiene",
   "metadata": {
    "slideshow": {
     "slide_type": ""
    },
    "tags": [
     "hide-input",
     "thebe-init"
    ]
   },
   "outputs": [
    {
     "data": {
      "application/vnd.jupyter.widget-view+json": {
       "model_id": "764ab875dc66401a9cf83bffe513947e",
       "version_major": 2,
       "version_minor": 0
      },
      "text/plain": [
       "VBox(children=(Textarea(value='0.7::burglary.\\n0.2::earthquake.\\n0.9::p_alarm1.\\n0.8::p_alarm2.\\n0.1::p_alarm3…"
      ]
     },
     "metadata": {},
     "output_type": "display_data"
    }
   ],
   "source": [
    "get_widget(\n",
    "\"\"\"0.7::burglary.\n",
    "0.2::earthquake.\n",
    "0.9::p_alarm1.\n",
    "0.8::p_alarm2.\n",
    "0.1::p_alarm3.\n",
    "\n",
    "alarm :- burglary, earthquake, p_alarm1.\n",
    "alarm :- burglary, \\+earthquake, p_alarm2.\n",
    "alarm :- \\+burglary, earthquake, p_alarm3.\n",
    "\n",
    "evidence(alarm,true).\n",
    "\n",
    "query(burglary).\n",
    "query(earthquake).\"\"\"\n",
    ")"
   ]
  },
  {
   "cell_type": "markdown",
   "id": "nervous-discrimination",
   "metadata": {
    "slideshow": {
     "slide_type": ""
    }
   },
   "source": [
    "When pressing 'Evaluate', ProbLog2 calculates the probability of there being a *burglary* or an *earthquake*, given the evidence that the *alarm* rang. The resulting marginals are: $P(burglary)=0.9896$ and $P(earthquake)=0.2275$."
   ]
  },
  {
   "cell_type": "markdown",
   "id": "foreign-advocacy",
   "metadata": {
    "slideshow": {
     "slide_type": "slide"
    }
   },
   "source": [
    "## Probabilistic clauses ##"
   ]
  },
  {
   "cell_type": "markdown",
   "id": "grateful-philip",
   "metadata": {
    "slideshow": {
     "slide_type": "subslide"
    }
   },
   "source": [
    "While the above is a correct encoding of the given Bayesian network, it is perhaps not very intuitive due to the auxiliary atoms. Fortunately, ProbLog2 offers some syntactic sugar called **probabilistic clauses** to encode this in a more readable way. Above, we encoded the information that the conditional probability of an *alarm* given a *burglary* and an *earthquake* equals 0.9 using the rule `alarm :- burglary, earthquake, p_alarm1`, plus the probabilistic fact `0.9::p_alarm1`. We can replace both with a single probabilistic clause of the form `0.9::alarm :- burglary, earthquake`. This should be read as: if *burglary* and *earthquake* are true, this causes *alarm* to become true with probability 0.9 if there is a *burglary* and an *earthquake*. As this example illustrates, a probabilistic clause has a body, just like regular ProbLog rules, and a head. The difference is that now, the head is annotated with a probability. By also using probabilistic clauses for the other rules in the ProbLog encoding of the Bayesian network, we get the following program."
   ]
  },
  {
   "cell_type": "code",
   "execution_count": 4,
   "id": "identical-traffic",
   "metadata": {
    "slideshow": {
     "slide_type": "subslide"
    },
    "tags": [
     "hide-input",
     "thebe-init"
    ]
   },
   "outputs": [
    {
     "data": {
      "application/vnd.jupyter.widget-view+json": {
       "model_id": "0de78af978d54a59946f2af3aff4f7fe",
       "version_major": 2,
       "version_minor": 0
      },
      "text/plain": [
       "VBox(children=(Textarea(value='0.7::burglary.\\n0.2::earthquake.\\n\\n0.9::alarm :- burglary, earthquake.\\n0.8::a…"
      ]
     },
     "metadata": {},
     "output_type": "display_data"
    }
   ],
   "source": [
    "get_widget(\n",
    "\"\"\"0.7::burglary.\n",
    "0.2::earthquake.\n",
    "\n",
    "0.9::alarm :- burglary, earthquake.\n",
    "0.8::alarm :- burglary, \\+earthquake.\n",
    "0.1::alarm :- \\+burglary, earthquake.\n",
    "\n",
    "evidence(alarm,true).\n",
    "query(burglary).\n",
    "query(earthquake).\"\"\"\n",
    ")"
   ]
  },
  {
   "cell_type": "markdown",
   "id": "historic-cologne",
   "metadata": {
    "slideshow": {
     "slide_type": ""
    }
   },
   "source": [
    "As you can verify by pressing 'Evaluate', this returns the same marginals as the 'plain' ProbLog encoding: $P(burglary)=0.9896$ and $P(earthquake)=0.2275$. This is not a coincidence: the two programs are equivalent (but the program with probabilistic clauses has the advantage of not needing any auxiliary atoms).\n",
    "\n",
    "[Probabilistic clauses documentation]\n",
    "\n",
    "[Probabilistic clauses documentation]: https://problog.readthedocs.io/en/latest/modeling_basic.html#probabilistic-clauses"
   ]
  },
  {
   "cell_type": "markdown",
   "id": "respiratory-gibraltar",
   "metadata": {
    "slideshow": {
     "slide_type": "slide"
    }
   },
   "source": [
    "## First-order ##"
   ]
  },
  {
   "cell_type": "markdown",
   "id": "printable-tissue",
   "metadata": {
    "slideshow": {
     "slide_type": "subslide"
    }
   },
   "source": [
    "To illustrate the use of *first-order* ProbLog programs, we show below a first-order extension of the *Alarm* example.\n",
    "\n",
    "digraph alarm2 { burglary -> alarm; earthquake -> alarm; alarm -> \"calls(john)\"; alarm -> \"calls(...)\"; alarm -> \"calls(mary)\"; }  \n",
    "Suppose there are $N$ people and each person independently *calls* the police with a certain probability, depending on the *alarm* ringing or not: if the *alarm* rings, the probability of *calling* is 0.8, otherwise it is 0.1. This can be modelled as follows. We again use probabilistic clauses and show the case $N=2$ (two people)."
   ]
  },
  {
   "cell_type": "code",
   "execution_count": 5,
   "id": "early-wichita",
   "metadata": {
    "slideshow": {
     "slide_type": "subslide"
    },
    "tags": [
     "hide-input",
     "thebe-init"
    ]
   },
   "outputs": [
    {
     "data": {
      "application/vnd.jupyter.widget-view+json": {
       "model_id": "96bc85a352004e7a8371228b87bc46e3",
       "version_major": 2,
       "version_minor": 0
      },
      "text/plain": [
       "VBox(children=(Textarea(value='person(john).\\nperson(mary).\\n\\n0.7::burglary.\\n0.2::earthquake.\\n\\n0.9::alarm …"
      ]
     },
     "metadata": {},
     "output_type": "display_data"
    }
   ],
   "source": [
    "get_widget(\n",
    "\"\"\"person(john).\n",
    "person(mary).\n",
    "\n",
    "0.7::burglary.\n",
    "0.2::earthquake.\n",
    "\n",
    "0.9::alarm :- burglary, earthquake.\n",
    "0.8::alarm :- burglary, \\+earthquake.\n",
    "0.1::alarm :- \\+burglary, earthquake.\n",
    "\n",
    "0.8::calls(X) :- alarm, person(X).\n",
    "0.1::calls(X) :- \\+alarm, person(X).\n",
    "\n",
    "evidence(calls(john),true).\n",
    "evidence(calls(mary),true).\n",
    "\n",
    "query(burglary).\n",
    "query(earthquake).\"\"\"\n",
    ")"
   ]
  },
  {
   "cell_type": "markdown",
   "id": "unable-blanket",
   "metadata": {
    "slideshow": {
     "slide_type": "subslide"
    }
   },
   "source": [
    "When pressing 'Evaluate', ProbLog2 calculates the probability of there being a *burglary* or an *earthquake*, given the evidence that both *john* and *mary* *called*. We obtain $P(burglary)=0.981939$ and $P(earthquake)=0.226851$.\n",
    "\n",
    "In general, any Boolean Bayesian network can be modeled in ProbLog using the above methodology. This can also be extended to non-Boolean Bayesian networks (in which some variables can take more than two possible values), by using annotated disjunctions with multiple atoms in the head."
   ]
  },
  {
   "cell_type": "markdown",
   "id": "radio-casting",
   "metadata": {
    "slideshow": {
     "slide_type": "slide"
    }
   },
   "source": [
    "## Annotated disjunctions: Dealing with multi-valued variables ##"
   ]
  },
  {
   "cell_type": "markdown",
   "id": "alpha-universe",
   "metadata": {
    "slideshow": {
     "slide_type": "subslide"
    }
   },
   "source": [
    "Since the random variables in the Bayesian network are all Boolean, we only need a single literal in the head of the rules. We can extend the Bayesian network to have a multi-valued variable by indicating the severity of the *earthquake*. The literal `earthquake` now has three possible values `none`, `mild`, `heavy` instead of previously two (no or yes). The probabilities of each value is denoted by the **annotated disjunction** in `0.01::earthquake(heavy); 0.19::earthquake(mild); 0.8::earthquake(none)`. An annotated disjunction is similar to a probabilistic disjunction, but with a different head. Instead of it being one atom annotated with a probability, it is now a disjunction of atoms each annotated with a probability."
   ]
  },
  {
   "cell_type": "code",
   "execution_count": 6,
   "id": "associate-feeding",
   "metadata": {
    "slideshow": {
     "slide_type": "subslide"
    },
    "tags": [
     "hide-input",
     "thebe-init"
    ]
   },
   "outputs": [
    {
     "data": {
      "application/vnd.jupyter.widget-view+json": {
       "model_id": "3ab22b5d68b24a8db0ce8711d47c2181",
       "version_major": 2,
       "version_minor": 0
      },
      "text/plain": [
       "VBox(children=(Textarea(value='person(john).\\nperson(mary).\\n\\n0.7::burglary.\\n0.01::earthquake(heavy); 0.19::…"
      ]
     },
     "metadata": {},
     "output_type": "display_data"
    }
   ],
   "source": [
    "get_widget(\n",
    "\"\"\"person(john).\n",
    "person(mary).\n",
    "\n",
    "0.7::burglary.\n",
    "0.01::earthquake(heavy); 0.19::earthquake(mild); 0.8::earthquake(none).\n",
    "\n",
    "0.90::alarm :-   burglary, earthquake(heavy).\n",
    "0.85::alarm :-   burglary, earthquake(mild).\n",
    "0.80::alarm :-   burglary, earthquake(none).\n",
    "0.10::alarm :- \\+burglary, earthquake(mild).\n",
    "0.30::alarm :- \\+burglary, earthquake(heavy).\n",
    "\n",
    "0.8::calls(X) :- alarm, person(X).\n",
    "0.1::calls(X) :- \\+alarm, person(X).\n",
    "\n",
    "evidence(calls(john),true).\n",
    "evidence(calls(mary),true).\n",
    "\n",
    "query(burglary).\n",
    "query(earthquake(_)).\"\"\"\n",
    ")"
   ]
  },
  {
   "cell_type": "markdown",
   "id": "indonesian-procedure",
   "metadata": {
    "slideshow": {
     "slide_type": "subslide"
    }
   },
   "source": [
    "[Annotated disjunctions documentation]\n",
    "\n",
    "[Annotated disjunctions documentation]: https://problog.readthedocs.io/en/latest/modeling_basic.html#annotated-disjunctions"
   ]
  }
 ],
 "metadata": {
  "jupytext": {
   "formats": "md:myst",
   "text_representation": {
    "extension": ".md",
    "format_name": "myst"
   }
  },
  "kernelspec": {
   "display_name": "Python 3",
   "language": "python",
   "name": "python3"
  },
  "language_info": {
   "codemirror_mode": {
    "name": "ipython",
    "version": 3
   },
   "file_extension": ".py",
   "mimetype": "text/x-python",
   "name": "python",
   "nbconvert_exporter": "python",
   "pygments_lexer": "ipython3",
   "version": "3.7.10"
  },
  "source_map": [
   13,
   17,
   21,
   76,
   85,
   100,
   144,
   150,
   158,
   167,
   171,
   182,
   186,
   210,
   214,
   218,
   224,
   244,
   252,
   256,
   263,
   291,
   297,
   301,
   305,
   335
  ],
  "widgets": {
   "application/vnd.jupyter.widget-state+json": {
    "state": {
     "0abe4b623ace47ad85f8f20278151ea8": {
      "model_module": "@jupyter-widgets/controls",
      "model_module_version": "1.5.0",
      "model_name": "TextareaModel",
      "state": {
       "_dom_classes": [],
       "_model_module": "@jupyter-widgets/controls",
       "_model_module_version": "1.5.0",
       "_model_name": "TextareaModel",
       "_view_count": null,
       "_view_module": "@jupyter-widgets/controls",
       "_view_module_version": "1.5.0",
       "_view_name": "TextareaView",
       "continuous_update": true,
       "description": "",
       "description_tooltip": null,
       "disabled": false,
       "layout": "IPY_MODEL_cbf54ef884de44f98c7cc4af933340c3",
       "placeholder": "ProbLog Programme",
       "rows": null,
       "style": "IPY_MODEL_69c399f8cf5d42eebbfda45901c92145",
       "value": "person(john).\nperson(mary).\n\n0.7::burglary.\n0.2::earthquake.\n\n0.9::alarm :- burglary, earthquake.\n0.8::alarm :- burglary, \\+earthquake.\n0.1::alarm :- \\+burglary, earthquake.\n\n0.8::calls(X) :- alarm, person(X).\n0.1::calls(X) :- \\+alarm, person(X).\n\nevidence(calls(john),true).\nevidence(calls(mary),true).\n\nquery(burglary).\nquery(earthquake)."
      }
     },
     "0de78af978d54a59946f2af3aff4f7fe": {
      "model_module": "@jupyter-widgets/controls",
      "model_module_version": "1.5.0",
      "model_name": "VBoxModel",
      "state": {
       "_dom_classes": [],
       "_model_module": "@jupyter-widgets/controls",
       "_model_module_version": "1.5.0",
       "_model_name": "VBoxModel",
       "_view_count": null,
       "_view_module": "@jupyter-widgets/controls",
       "_view_module_version": "1.5.0",
       "_view_name": "VBoxView",
       "box_style": "",
       "children": [
        "IPY_MODEL_ef2cca2f2b7b464c96d64a152ed6c6b6",
        "IPY_MODEL_5aa50decf3044c688ce27717a31173f1"
       ],
       "layout": "IPY_MODEL_cfc26fac7cca4dd9b8c891e79c435d6d"
      }
     },
     "11278909180c4d70a39e67b19bfb275c": {
      "model_module": "@jupyter-widgets/base",
      "model_module_version": "1.2.0",
      "model_name": "LayoutModel",
      "state": {
       "_model_module": "@jupyter-widgets/base",
       "_model_module_version": "1.2.0",
       "_model_name": "LayoutModel",
       "_view_count": null,
       "_view_module": "@jupyter-widgets/base",
       "_view_module_version": "1.2.0",
       "_view_name": "LayoutView",
       "align_content": null,
       "align_items": null,
       "align_self": null,
       "border": null,
       "bottom": null,
       "display": null,
       "flex": null,
       "flex_flow": null,
       "grid_area": null,
       "grid_auto_columns": null,
       "grid_auto_flow": null,
       "grid_auto_rows": null,
       "grid_column": null,
       "grid_gap": null,
       "grid_row": null,
       "grid_template_areas": null,
       "grid_template_columns": null,
       "grid_template_rows": null,
       "height": "230px",
       "justify_content": null,
       "justify_items": null,
       "left": null,
       "margin": null,
       "max_height": null,
       "max_width": null,
       "min_height": null,
       "min_width": null,
       "object_fit": null,
       "object_position": null,
       "order": null,
       "overflow": null,
       "overflow_x": null,
       "overflow_y": null,
       "padding": null,
       "right": null,
       "top": null,
       "visibility": null,
       "width": "300px"
      }
     },
     "151a41e5f36a4fc2bbc170a69c31bc2c": {
      "model_module": "@jupyter-widgets/base",
      "model_module_version": "1.2.0",
      "model_name": "LayoutModel",
      "state": {
       "_model_module": "@jupyter-widgets/base",
       "_model_module_version": "1.2.0",
       "_model_name": "LayoutModel",
       "_view_count": null,
       "_view_module": "@jupyter-widgets/base",
       "_view_module_version": "1.2.0",
       "_view_name": "LayoutView",
       "align_content": null,
       "align_items": null,
       "align_self": null,
       "border": null,
       "bottom": null,
       "display": null,
       "flex": null,
       "flex_flow": null,
       "grid_area": null,
       "grid_auto_columns": null,
       "grid_auto_flow": null,
       "grid_auto_rows": null,
       "grid_column": null,
       "grid_gap": null,
       "grid_row": null,
       "grid_template_areas": null,
       "grid_template_columns": null,
       "grid_template_rows": null,
       "height": "460px",
       "justify_content": null,
       "justify_items": null,
       "left": null,
       "margin": null,
       "max_height": null,
       "max_width": null,
       "min_height": null,
       "min_width": null,
       "object_fit": null,
       "object_position": null,
       "order": null,
       "overflow": null,
       "overflow_x": null,
       "overflow_y": null,
       "padding": null,
       "right": null,
       "top": null,
       "visibility": null,
       "width": "300px"
      }
     },
     "193369a5d2f04d65b907544980cea923": {
      "model_module": "@jupyter-widgets/controls",
      "model_module_version": "1.5.0",
      "model_name": "ButtonModel",
      "state": {
       "_dom_classes": [],
       "_model_module": "@jupyter-widgets/controls",
       "_model_module_version": "1.5.0",
       "_model_name": "ButtonModel",
       "_view_count": null,
       "_view_module": "@jupyter-widgets/controls",
       "_view_module_version": "1.5.0",
       "_view_name": "ButtonView",
       "button_style": "info",
       "description": "Evaluate",
       "disabled": false,
       "icon": "",
       "layout": "IPY_MODEL_ebaecf28344944298079b8523648f16a",
       "style": "IPY_MODEL_c1e4177386cb4843a0578c5fa308b5ee",
       "tooltip": ""
      }
     },
     "199443447893483cab587c4036eae2dd": {
      "model_module": "@jupyter-widgets/controls",
      "model_module_version": "1.5.0",
      "model_name": "DescriptionStyleModel",
      "state": {
       "_model_module": "@jupyter-widgets/controls",
       "_model_module_version": "1.5.0",
       "_model_name": "DescriptionStyleModel",
       "_view_count": null,
       "_view_module": "@jupyter-widgets/base",
       "_view_module_version": "1.2.0",
       "_view_name": "StyleView",
       "description_width": ""
      }
     },
     "20ca5d728d334a6fa81420d09db961c6": {
      "model_module": "@jupyter-widgets/base",
      "model_module_version": "1.2.0",
      "model_name": "LayoutModel",
      "state": {
       "_model_module": "@jupyter-widgets/base",
       "_model_module_version": "1.2.0",
       "_model_name": "LayoutModel",
       "_view_count": null,
       "_view_module": "@jupyter-widgets/base",
       "_view_module_version": "1.2.0",
       "_view_name": "LayoutView",
       "align_content": null,
       "align_items": null,
       "align_self": null,
       "border": null,
       "bottom": null,
       "display": null,
       "flex": null,
       "flex_flow": null,
       "grid_area": null,
       "grid_auto_columns": null,
       "grid_auto_flow": null,
       "grid_auto_rows": null,
       "grid_column": null,
       "grid_gap": null,
       "grid_row": null,
       "grid_template_areas": null,
       "grid_template_columns": null,
       "grid_template_rows": null,
       "height": null,
       "justify_content": null,
       "justify_items": null,
       "left": null,
       "margin": null,
       "max_height": null,
       "max_width": null,
       "min_height": null,
       "min_width": null,
       "object_fit": null,
       "object_position": null,
       "order": null,
       "overflow": null,
       "overflow_x": null,
       "overflow_y": null,
       "padding": null,
       "right": null,
       "top": null,
       "visibility": null,
       "width": null
      }
     },
     "3603943b5f3b4067a7831a4d5462b87d": {
      "model_module": "@jupyter-widgets/controls",
      "model_module_version": "1.5.0",
      "model_name": "ButtonStyleModel",
      "state": {
       "_model_module": "@jupyter-widgets/controls",
       "_model_module_version": "1.5.0",
       "_model_name": "ButtonStyleModel",
       "_view_count": null,
       "_view_module": "@jupyter-widgets/base",
       "_view_module_version": "1.2.0",
       "_view_name": "StyleView",
       "button_color": null,
       "font_weight": ""
      }
     },
     "3ab22b5d68b24a8db0ce8711d47c2181": {
      "model_module": "@jupyter-widgets/controls",
      "model_module_version": "1.5.0",
      "model_name": "VBoxModel",
      "state": {
       "_dom_classes": [],
       "_model_module": "@jupyter-widgets/controls",
       "_model_module_version": "1.5.0",
       "_model_name": "VBoxModel",
       "_view_count": null,
       "_view_module": "@jupyter-widgets/controls",
       "_view_module_version": "1.5.0",
       "_view_name": "VBoxView",
       "box_style": "",
       "children": [
        "IPY_MODEL_c2ee329fe0a246298cdf9001aafb0b15",
        "IPY_MODEL_64ab4d3c8cfd4325bd8a15baf932b808"
       ],
       "layout": "IPY_MODEL_d7e40df4c59a4eaab9f7ac110ddc6d00"
      }
     },
     "4640931f21a0402988a86a0ab174d914": {
      "model_module": "@jupyter-widgets/controls",
      "model_module_version": "1.5.0",
      "model_name": "ButtonStyleModel",
      "state": {
       "_model_module": "@jupyter-widgets/controls",
       "_model_module_version": "1.5.0",
       "_model_name": "ButtonStyleModel",
       "_view_count": null,
       "_view_module": "@jupyter-widgets/base",
       "_view_module_version": "1.2.0",
       "_view_name": "StyleView",
       "button_color": null,
       "font_weight": ""
      }
     },
     "51525452fd9f47ff9b7bb9ed1326f5af": {
      "model_module": "@jupyter-widgets/base",
      "model_module_version": "1.2.0",
      "model_name": "LayoutModel",
      "state": {
       "_model_module": "@jupyter-widgets/base",
       "_model_module_version": "1.2.0",
       "_model_name": "LayoutModel",
       "_view_count": null,
       "_view_module": "@jupyter-widgets/base",
       "_view_module_version": "1.2.0",
       "_view_name": "LayoutView",
       "align_content": null,
       "align_items": null,
       "align_self": null,
       "border": null,
       "bottom": null,
       "display": null,
       "flex": null,
       "flex_flow": null,
       "grid_area": null,
       "grid_auto_columns": null,
       "grid_auto_flow": null,
       "grid_auto_rows": null,
       "grid_column": null,
       "grid_gap": null,
       "grid_row": null,
       "grid_template_areas": null,
       "grid_template_columns": null,
       "grid_template_rows": null,
       "height": null,
       "justify_content": null,
       "justify_items": null,
       "left": null,
       "margin": null,
       "max_height": null,
       "max_width": null,
       "min_height": null,
       "min_width": null,
       "object_fit": null,
       "object_position": null,
       "order": null,
       "overflow": null,
       "overflow_x": null,
       "overflow_y": null,
       "padding": null,
       "right": null,
       "top": null,
       "visibility": null,
       "width": null
      }
     },
     "5aa50decf3044c688ce27717a31173f1": {
      "model_module": "@jupyter-widgets/controls",
      "model_module_version": "1.5.0",
      "model_name": "ButtonModel",
      "state": {
       "_dom_classes": [],
       "_model_module": "@jupyter-widgets/controls",
       "_model_module_version": "1.5.0",
       "_model_name": "ButtonModel",
       "_view_count": null,
       "_view_module": "@jupyter-widgets/controls",
       "_view_module_version": "1.5.0",
       "_view_name": "ButtonView",
       "button_style": "info",
       "description": "Evaluate",
       "disabled": false,
       "icon": "",
       "layout": "IPY_MODEL_e773a720df5649f38d3bf4cd1a688d49",
       "style": "IPY_MODEL_3603943b5f3b4067a7831a4d5462b87d",
       "tooltip": ""
      }
     },
     "6218980ef1cd416e81e4dd1f49f95516": {
      "model_module": "@jupyter-widgets/base",
      "model_module_version": "1.2.0",
      "model_name": "LayoutModel",
      "state": {
       "_model_module": "@jupyter-widgets/base",
       "_model_module_version": "1.2.0",
       "_model_name": "LayoutModel",
       "_view_count": null,
       "_view_module": "@jupyter-widgets/base",
       "_view_module_version": "1.2.0",
       "_view_name": "LayoutView",
       "align_content": null,
       "align_items": null,
       "align_self": null,
       "border": null,
       "bottom": null,
       "display": null,
       "flex": null,
       "flex_flow": null,
       "grid_area": null,
       "grid_auto_columns": null,
       "grid_auto_flow": null,
       "grid_auto_rows": null,
       "grid_column": null,
       "grid_gap": null,
       "grid_row": null,
       "grid_template_areas": null,
       "grid_template_columns": null,
       "grid_template_rows": null,
       "height": "322px",
       "justify_content": null,
       "justify_items": null,
       "left": null,
       "margin": null,
       "max_height": null,
       "max_width": null,
       "min_height": null,
       "min_width": null,
       "object_fit": null,
       "object_position": null,
       "order": null,
       "overflow": null,
       "overflow_x": null,
       "overflow_y": null,
       "padding": null,
       "right": null,
       "top": null,
       "visibility": null,
       "width": "300px"
      }
     },
     "64ab4d3c8cfd4325bd8a15baf932b808": {
      "model_module": "@jupyter-widgets/controls",
      "model_module_version": "1.5.0",
      "model_name": "ButtonModel",
      "state": {
       "_dom_classes": [],
       "_model_module": "@jupyter-widgets/controls",
       "_model_module_version": "1.5.0",
       "_model_name": "ButtonModel",
       "_view_count": null,
       "_view_module": "@jupyter-widgets/controls",
       "_view_module_version": "1.5.0",
       "_view_name": "ButtonView",
       "button_style": "info",
       "description": "Evaluate",
       "disabled": false,
       "icon": "",
       "layout": "IPY_MODEL_8c8f88d22c864c1b8d50fd906be2543b",
       "style": "IPY_MODEL_4640931f21a0402988a86a0ab174d914",
       "tooltip": ""
      }
     },
     "69c399f8cf5d42eebbfda45901c92145": {
      "model_module": "@jupyter-widgets/controls",
      "model_module_version": "1.5.0",
      "model_name": "DescriptionStyleModel",
      "state": {
       "_model_module": "@jupyter-widgets/controls",
       "_model_module_version": "1.5.0",
       "_model_name": "DescriptionStyleModel",
       "_view_count": null,
       "_view_module": "@jupyter-widgets/base",
       "_view_module_version": "1.2.0",
       "_view_name": "StyleView",
       "description_width": ""
      }
     },
     "6d266aa09d9a4befb2ed7f6872d06e78": {
      "model_module": "@jupyter-widgets/controls",
      "model_module_version": "1.5.0",
      "model_name": "ButtonModel",
      "state": {
       "_dom_classes": [],
       "_model_module": "@jupyter-widgets/controls",
       "_model_module_version": "1.5.0",
       "_model_name": "ButtonModel",
       "_view_count": null,
       "_view_module": "@jupyter-widgets/controls",
       "_view_module_version": "1.5.0",
       "_view_name": "ButtonView",
       "button_style": "info",
       "description": "Evaluate",
       "disabled": false,
       "icon": "",
       "layout": "IPY_MODEL_f0364d929165477fb7b9d40dcb59b447",
       "style": "IPY_MODEL_79777ec80c5f4dedb847835c18a5abc4",
       "tooltip": ""
      }
     },
     "764ab875dc66401a9cf83bffe513947e": {
      "model_module": "@jupyter-widgets/controls",
      "model_module_version": "1.5.0",
      "model_name": "VBoxModel",
      "state": {
       "_dom_classes": [],
       "_model_module": "@jupyter-widgets/controls",
       "_model_module_version": "1.5.0",
       "_model_name": "VBoxModel",
       "_view_count": null,
       "_view_module": "@jupyter-widgets/controls",
       "_view_module_version": "1.5.0",
       "_view_name": "VBoxView",
       "box_style": "",
       "children": [
        "IPY_MODEL_ec37f2b8818f44959243085f2e7333d1",
        "IPY_MODEL_193369a5d2f04d65b907544980cea923"
       ],
       "layout": "IPY_MODEL_51525452fd9f47ff9b7bb9ed1326f5af"
      }
     },
     "79777ec80c5f4dedb847835c18a5abc4": {
      "model_module": "@jupyter-widgets/controls",
      "model_module_version": "1.5.0",
      "model_name": "ButtonStyleModel",
      "state": {
       "_model_module": "@jupyter-widgets/controls",
       "_model_module_version": "1.5.0",
       "_model_name": "ButtonStyleModel",
       "_view_count": null,
       "_view_module": "@jupyter-widgets/base",
       "_view_module_version": "1.2.0",
       "_view_name": "StyleView",
       "button_color": null,
       "font_weight": ""
      }
     },
     "8c8f88d22c864c1b8d50fd906be2543b": {
      "model_module": "@jupyter-widgets/base",
      "model_module_version": "1.2.0",
      "model_name": "LayoutModel",
      "state": {
       "_model_module": "@jupyter-widgets/base",
       "_model_module_version": "1.2.0",
       "_model_name": "LayoutModel",
       "_view_count": null,
       "_view_module": "@jupyter-widgets/base",
       "_view_module_version": "1.2.0",
       "_view_name": "LayoutView",
       "align_content": null,
       "align_items": null,
       "align_self": null,
       "border": null,
       "bottom": null,
       "display": null,
       "flex": null,
       "flex_flow": null,
       "grid_area": null,
       "grid_auto_columns": null,
       "grid_auto_flow": null,
       "grid_auto_rows": null,
       "grid_column": null,
       "grid_gap": null,
       "grid_row": null,
       "grid_template_areas": null,
       "grid_template_columns": null,
       "grid_template_rows": null,
       "height": null,
       "justify_content": null,
       "justify_items": null,
       "left": null,
       "margin": null,
       "max_height": null,
       "max_width": null,
       "min_height": null,
       "min_width": null,
       "object_fit": null,
       "object_position": null,
       "order": null,
       "overflow": null,
       "overflow_x": null,
       "overflow_y": null,
       "padding": null,
       "right": null,
       "top": null,
       "visibility": null,
       "width": null
      }
     },
     "96bc85a352004e7a8371228b87bc46e3": {
      "model_module": "@jupyter-widgets/controls",
      "model_module_version": "1.5.0",
      "model_name": "VBoxModel",
      "state": {
       "_dom_classes": [],
       "_model_module": "@jupyter-widgets/controls",
       "_model_module_version": "1.5.0",
       "_model_name": "VBoxModel",
       "_view_count": null,
       "_view_module": "@jupyter-widgets/controls",
       "_view_module_version": "1.5.0",
       "_view_name": "VBoxView",
       "box_style": "",
       "children": [
        "IPY_MODEL_0abe4b623ace47ad85f8f20278151ea8",
        "IPY_MODEL_6d266aa09d9a4befb2ed7f6872d06e78"
       ],
       "layout": "IPY_MODEL_20ca5d728d334a6fa81420d09db961c6"
      }
     },
     "a752f04db18844428494b8c13ec5cd58": {
      "model_module": "@jupyter-widgets/controls",
      "model_module_version": "1.5.0",
      "model_name": "DescriptionStyleModel",
      "state": {
       "_model_module": "@jupyter-widgets/controls",
       "_model_module_version": "1.5.0",
       "_model_name": "DescriptionStyleModel",
       "_view_count": null,
       "_view_module": "@jupyter-widgets/base",
       "_view_module_version": "1.2.0",
       "_view_name": "StyleView",
       "description_width": ""
      }
     },
     "c1e4177386cb4843a0578c5fa308b5ee": {
      "model_module": "@jupyter-widgets/controls",
      "model_module_version": "1.5.0",
      "model_name": "ButtonStyleModel",
      "state": {
       "_model_module": "@jupyter-widgets/controls",
       "_model_module_version": "1.5.0",
       "_model_name": "ButtonStyleModel",
       "_view_count": null,
       "_view_module": "@jupyter-widgets/base",
       "_view_module_version": "1.2.0",
       "_view_name": "StyleView",
       "button_color": null,
       "font_weight": ""
      }
     },
     "c2ee329fe0a246298cdf9001aafb0b15": {
      "model_module": "@jupyter-widgets/controls",
      "model_module_version": "1.5.0",
      "model_name": "TextareaModel",
      "state": {
       "_dom_classes": [],
       "_model_module": "@jupyter-widgets/controls",
       "_model_module_version": "1.5.0",
       "_model_name": "TextareaModel",
       "_view_count": null,
       "_view_module": "@jupyter-widgets/controls",
       "_view_module_version": "1.5.0",
       "_view_name": "TextareaView",
       "continuous_update": true,
       "description": "",
       "description_tooltip": null,
       "disabled": false,
       "layout": "IPY_MODEL_151a41e5f36a4fc2bbc170a69c31bc2c",
       "placeholder": "ProbLog Programme",
       "rows": null,
       "style": "IPY_MODEL_a752f04db18844428494b8c13ec5cd58",
       "value": "person(john).\nperson(mary).\n\n0.7::burglary.\n0.01::earthquake(heavy); 0.19::earthquake(mild); 0.8::earthquake(none).\n\n0.90::alarm :-   burglary, earthquake(heavy).\n0.85::alarm :-   burglary, earthquake(mild).\n0.80::alarm :-   burglary, earthquake(none).\n0.10::alarm :- \\+burglary, earthquake(mild).\n0.30::alarm :- \\+burglary, earthquake(heavy).\n\n0.8::calls(X) :- alarm, person(X).\n0.1::calls(X) :- \\+alarm, person(X).\n\nevidence(calls(john),true).\nevidence(calls(mary),true).\n\nquery(burglary).\nquery(earthquake(_))."
      }
     },
     "cbf54ef884de44f98c7cc4af933340c3": {
      "model_module": "@jupyter-widgets/base",
      "model_module_version": "1.2.0",
      "model_name": "LayoutModel",
      "state": {
       "_model_module": "@jupyter-widgets/base",
       "_model_module_version": "1.2.0",
       "_model_name": "LayoutModel",
       "_view_count": null,
       "_view_module": "@jupyter-widgets/base",
       "_view_module_version": "1.2.0",
       "_view_name": "LayoutView",
       "align_content": null,
       "align_items": null,
       "align_self": null,
       "border": null,
       "bottom": null,
       "display": null,
       "flex": null,
       "flex_flow": null,
       "grid_area": null,
       "grid_auto_columns": null,
       "grid_auto_flow": null,
       "grid_auto_rows": null,
       "grid_column": null,
       "grid_gap": null,
       "grid_row": null,
       "grid_template_areas": null,
       "grid_template_columns": null,
       "grid_template_rows": null,
       "height": "414px",
       "justify_content": null,
       "justify_items": null,
       "left": null,
       "margin": null,
       "max_height": null,
       "max_width": null,
       "min_height": null,
       "min_width": null,
       "object_fit": null,
       "object_position": null,
       "order": null,
       "overflow": null,
       "overflow_x": null,
       "overflow_y": null,
       "padding": null,
       "right": null,
       "top": null,
       "visibility": null,
       "width": "300px"
      }
     },
     "cf208e3717ce458cafcf52af9c5b2930": {
      "model_module": "@jupyter-widgets/controls",
      "model_module_version": "1.5.0",
      "model_name": "DescriptionStyleModel",
      "state": {
       "_model_module": "@jupyter-widgets/controls",
       "_model_module_version": "1.5.0",
       "_model_name": "DescriptionStyleModel",
       "_view_count": null,
       "_view_module": "@jupyter-widgets/base",
       "_view_module_version": "1.2.0",
       "_view_name": "StyleView",
       "description_width": ""
      }
     },
     "cfc26fac7cca4dd9b8c891e79c435d6d": {
      "model_module": "@jupyter-widgets/base",
      "model_module_version": "1.2.0",
      "model_name": "LayoutModel",
      "state": {
       "_model_module": "@jupyter-widgets/base",
       "_model_module_version": "1.2.0",
       "_model_name": "LayoutModel",
       "_view_count": null,
       "_view_module": "@jupyter-widgets/base",
       "_view_module_version": "1.2.0",
       "_view_name": "LayoutView",
       "align_content": null,
       "align_items": null,
       "align_self": null,
       "border": null,
       "bottom": null,
       "display": null,
       "flex": null,
       "flex_flow": null,
       "grid_area": null,
       "grid_auto_columns": null,
       "grid_auto_flow": null,
       "grid_auto_rows": null,
       "grid_column": null,
       "grid_gap": null,
       "grid_row": null,
       "grid_template_areas": null,
       "grid_template_columns": null,
       "grid_template_rows": null,
       "height": null,
       "justify_content": null,
       "justify_items": null,
       "left": null,
       "margin": null,
       "max_height": null,
       "max_width": null,
       "min_height": null,
       "min_width": null,
       "object_fit": null,
       "object_position": null,
       "order": null,
       "overflow": null,
       "overflow_x": null,
       "overflow_y": null,
       "padding": null,
       "right": null,
       "top": null,
       "visibility": null,
       "width": null
      }
     },
     "d7e40df4c59a4eaab9f7ac110ddc6d00": {
      "model_module": "@jupyter-widgets/base",
      "model_module_version": "1.2.0",
      "model_name": "LayoutModel",
      "state": {
       "_model_module": "@jupyter-widgets/base",
       "_model_module_version": "1.2.0",
       "_model_name": "LayoutModel",
       "_view_count": null,
       "_view_module": "@jupyter-widgets/base",
       "_view_module_version": "1.2.0",
       "_view_name": "LayoutView",
       "align_content": null,
       "align_items": null,
       "align_self": null,
       "border": null,
       "bottom": null,
       "display": null,
       "flex": null,
       "flex_flow": null,
       "grid_area": null,
       "grid_auto_columns": null,
       "grid_auto_flow": null,
       "grid_auto_rows": null,
       "grid_column": null,
       "grid_gap": null,
       "grid_row": null,
       "grid_template_areas": null,
       "grid_template_columns": null,
       "grid_template_rows": null,
       "height": null,
       "justify_content": null,
       "justify_items": null,
       "left": null,
       "margin": null,
       "max_height": null,
       "max_width": null,
       "min_height": null,
       "min_width": null,
       "object_fit": null,
       "object_position": null,
       "order": null,
       "overflow": null,
       "overflow_x": null,
       "overflow_y": null,
       "padding": null,
       "right": null,
       "top": null,
       "visibility": null,
       "width": null
      }
     },
     "e773a720df5649f38d3bf4cd1a688d49": {
      "model_module": "@jupyter-widgets/base",
      "model_module_version": "1.2.0",
      "model_name": "LayoutModel",
      "state": {
       "_model_module": "@jupyter-widgets/base",
       "_model_module_version": "1.2.0",
       "_model_name": "LayoutModel",
       "_view_count": null,
       "_view_module": "@jupyter-widgets/base",
       "_view_module_version": "1.2.0",
       "_view_name": "LayoutView",
       "align_content": null,
       "align_items": null,
       "align_self": null,
       "border": null,
       "bottom": null,
       "display": null,
       "flex": null,
       "flex_flow": null,
       "grid_area": null,
       "grid_auto_columns": null,
       "grid_auto_flow": null,
       "grid_auto_rows": null,
       "grid_column": null,
       "grid_gap": null,
       "grid_row": null,
       "grid_template_areas": null,
       "grid_template_columns": null,
       "grid_template_rows": null,
       "height": null,
       "justify_content": null,
       "justify_items": null,
       "left": null,
       "margin": null,
       "max_height": null,
       "max_width": null,
       "min_height": null,
       "min_width": null,
       "object_fit": null,
       "object_position": null,
       "order": null,
       "overflow": null,
       "overflow_x": null,
       "overflow_y": null,
       "padding": null,
       "right": null,
       "top": null,
       "visibility": null,
       "width": null
      }
     },
     "ebaecf28344944298079b8523648f16a": {
      "model_module": "@jupyter-widgets/base",
      "model_module_version": "1.2.0",
      "model_name": "LayoutModel",
      "state": {
       "_model_module": "@jupyter-widgets/base",
       "_model_module_version": "1.2.0",
       "_model_name": "LayoutModel",
       "_view_count": null,
       "_view_module": "@jupyter-widgets/base",
       "_view_module_version": "1.2.0",
       "_view_name": "LayoutView",
       "align_content": null,
       "align_items": null,
       "align_self": null,
       "border": null,
       "bottom": null,
       "display": null,
       "flex": null,
       "flex_flow": null,
       "grid_area": null,
       "grid_auto_columns": null,
       "grid_auto_flow": null,
       "grid_auto_rows": null,
       "grid_column": null,
       "grid_gap": null,
       "grid_row": null,
       "grid_template_areas": null,
       "grid_template_columns": null,
       "grid_template_rows": null,
       "height": null,
       "justify_content": null,
       "justify_items": null,
       "left": null,
       "margin": null,
       "max_height": null,
       "max_width": null,
       "min_height": null,
       "min_width": null,
       "object_fit": null,
       "object_position": null,
       "order": null,
       "overflow": null,
       "overflow_x": null,
       "overflow_y": null,
       "padding": null,
       "right": null,
       "top": null,
       "visibility": null,
       "width": null
      }
     },
     "ec37f2b8818f44959243085f2e7333d1": {
      "model_module": "@jupyter-widgets/controls",
      "model_module_version": "1.5.0",
      "model_name": "TextareaModel",
      "state": {
       "_dom_classes": [],
       "_model_module": "@jupyter-widgets/controls",
       "_model_module_version": "1.5.0",
       "_model_name": "TextareaModel",
       "_view_count": null,
       "_view_module": "@jupyter-widgets/controls",
       "_view_module_version": "1.5.0",
       "_view_name": "TextareaView",
       "continuous_update": true,
       "description": "",
       "description_tooltip": null,
       "disabled": false,
       "layout": "IPY_MODEL_6218980ef1cd416e81e4dd1f49f95516",
       "placeholder": "ProbLog Programme",
       "rows": null,
       "style": "IPY_MODEL_199443447893483cab587c4036eae2dd",
       "value": "0.7::burglary.\n0.2::earthquake.\n0.9::p_alarm1.\n0.8::p_alarm2.\n0.1::p_alarm3.\n\nalarm :- burglary, earthquake, p_alarm1.\nalarm :- burglary, \\+earthquake, p_alarm2.\nalarm :- \\+burglary, earthquake, p_alarm3.\n\nevidence(alarm,true).\n\nquery(burglary).\nquery(earthquake)."
      }
     },
     "ef2cca2f2b7b464c96d64a152ed6c6b6": {
      "model_module": "@jupyter-widgets/controls",
      "model_module_version": "1.5.0",
      "model_name": "TextareaModel",
      "state": {
       "_dom_classes": [],
       "_model_module": "@jupyter-widgets/controls",
       "_model_module_version": "1.5.0",
       "_model_name": "TextareaModel",
       "_view_count": null,
       "_view_module": "@jupyter-widgets/controls",
       "_view_module_version": "1.5.0",
       "_view_name": "TextareaView",
       "continuous_update": true,
       "description": "",
       "description_tooltip": null,
       "disabled": false,
       "layout": "IPY_MODEL_11278909180c4d70a39e67b19bfb275c",
       "placeholder": "ProbLog Programme",
       "rows": null,
       "style": "IPY_MODEL_cf208e3717ce458cafcf52af9c5b2930",
       "value": "0.7::burglary.\n0.2::earthquake.\n\n0.9::alarm :- burglary, earthquake.\n0.8::alarm :- burglary, \\+earthquake.\n0.1::alarm :- \\+burglary, earthquake.\n\nevidence(alarm,true).\nquery(burglary).\nquery(earthquake)."
      }
     },
     "f0364d929165477fb7b9d40dcb59b447": {
      "model_module": "@jupyter-widgets/base",
      "model_module_version": "1.2.0",
      "model_name": "LayoutModel",
      "state": {
       "_model_module": "@jupyter-widgets/base",
       "_model_module_version": "1.2.0",
       "_model_name": "LayoutModel",
       "_view_count": null,
       "_view_module": "@jupyter-widgets/base",
       "_view_module_version": "1.2.0",
       "_view_name": "LayoutView",
       "align_content": null,
       "align_items": null,
       "align_self": null,
       "border": null,
       "bottom": null,
       "display": null,
       "flex": null,
       "flex_flow": null,
       "grid_area": null,
       "grid_auto_columns": null,
       "grid_auto_flow": null,
       "grid_auto_rows": null,
       "grid_column": null,
       "grid_gap": null,
       "grid_row": null,
       "grid_template_areas": null,
       "grid_template_columns": null,
       "grid_template_rows": null,
       "height": null,
       "justify_content": null,
       "justify_items": null,
       "left": null,
       "margin": null,
       "max_height": null,
       "max_width": null,
       "min_height": null,
       "min_width": null,
       "object_fit": null,
       "object_position": null,
       "order": null,
       "overflow": null,
       "overflow_x": null,
       "overflow_y": null,
       "padding": null,
       "right": null,
       "top": null,
       "visibility": null,
       "width": null
      }
     }
    },
    "version_major": 2,
    "version_minor": 0
   }
  }
 },
 "nbformat": 4,
 "nbformat_minor": 5
}